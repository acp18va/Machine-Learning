{
 "cells": [
  {
   "cell_type": "markdown",
   "metadata": {},
   "source": [
    "# Generalization: Model Validation\n",
    "\n",
    "### 27th October 2015 Neil D. Lawrence"
   ]
  },
  {
   "cell_type": "markdown",
   "metadata": {},
   "source": [
    "If we had to summarise the objectives of machine learning in one word, a very good candidate for that word would be *generalization*. What is generalization? From a human perspective it might be summarised as the ability to take lessons learned in one domain and apply them to another domain. If we accept the definition given in the first session for machine learning, \n",
    "$$\n",
    "\\text{data} + \\text{model} \\xrightarrow{\\text{compute}} \\text{prediction}\n",
    "$$\n",
    "then we see that without a model we can't generalise: we only have data. Data is fine for answering very specific questions, like \"Who won the Olympic Marathon in 2012?\", because we have that answer stored, however, we are not given the answer to many other questions. For example, Alan Turing was a formidable marathon runner, in 1946 he ran a time 2 hours 46 minutes (just under four minutes per kilometer, faster than most of the other [Endcliffe Park Run](http://www.parkrun.org.uk/sheffieldhallam/) runners can do 5 km). What is the probability he would have won an Olympics if one had been held in 1946?  \n",
    "![Alan Turing, Times in the Times](http://www.turing.org.uk/turing/pi2/times2.gif)![Alan Turing running in 1946](http://www.turing.org.uk/turing/pi2/run.jpg)\n",
    "<center>*Alan Turing, in 1946 he was only 11 minutes slower than the winner of the 1948 games. Would he have won a hypothetical games held in 1946? Source: [Alan Turing Internet Scrapbook](http://www.turing.org.uk/scrapbook/run.html).*</center>\n",
    "To answer this question we need to generalize, but before we formalize the concept of generalization let's introduce some formal representation of what it means to generalize in machine learning.\n",
    "\n",
    "### Expected Loss\n",
    "\n",
    "Our objective function so far has been the negative log likelihood, which we have minimized (via the sum of squares error) to obtain our model. However, there is an alternative perspective on an objective function, that of a *loss function*. A loss function is a cost function associated with the penalty you might need to pay for a particular incorrect decision. One approach to machine learning involves specifying a loss function and considering how much a particular model is likely to cost us across its lifetime. We can represent this with an expectation. If our loss function is given as $L(y, x, \\mathbf{w})$ for a particular model that predicts $y$ given $x$ and $\\mathbf{w}$ then we are interested in minimizing the expected loss under the likely distribution of $y$ and $x$. To understand this formally we define the *true* distribution of the data samples, $y$, $x$. This is a very special distribution that we don't have access to very often, and to represent that we define it with a special letter 'P', $\\mathbb{P}(y, x)$. If we genuinely pay $L(y, x, \\mathbf{w})$ for every mistake we make, and the future test data is genuinely drawn from $\\mathbb{P}(y, x)$ then we can define our expected loss, or risk, to be,\n",
    "$$\n",
    "R(\\mathbf{w}) = \\int L(y, x, \\mathbf{w}) \\mathbb{P}(y, x) \\text{d}y \\text{d}x.\n",
    "$$\n",
    "Of course, in practice, this value can't be computed *but* it serves as a reminder of what it is we are aiming to minimize and under certain circumstances it can be approximated.\n",
    "\n",
    "### Sample Based Approximations\n",
    "\n",
    "A sample based approximation to an expectation involves replacing the true expectation with a sum over samples from the distribution. \n",
    "$$\n",
    "\\int f(z) p(z) \\text{d}y \\text{d}z\\approx \\frac{1}{s}\\sum_{i=1}^s f(z_i).\n",
    "$$\n",
    "if $\\{z_i\\}_{i=1}^s$ are a set of $s$ independent and identically distributed samples from the distribution $p(z)$. This approximation becomes better for larger $s$, although the *rate of convergence* to the true integral will be very dependent on the distribution $p(z)$ *and* the function $f(z)$. \n",
    "\n",
    "That said, this means we can approximate our true integral with the sum,\n",
    "$$\n",
    "R(\\mathbf{w}) \\approx \\frac{1}{n}\\sum_{i=1}^n L(y_i, x_i, \\mathbf{w}),\n",
    "$$\n",
    "if $y_i$ and $x_i$ are independent samples from the true distribution $\\mathbb{P}(y, x)$. Minimizing this sum directly is known as *empirical risk minimization*. The sum of squares error we have been using can be recovered for this case by considering a *squared loss*,\n",
    "$$\n",
    "L(y, x, \\mathbf{w}) = (y-\\mathbf{w}^\\top\\boldsymbol{\\phi}(x))^2\n",
    "$$\n",
    "which gives an empirical risk of the form\n",
    "$$\n",
    "R(\\mathbf{w}) \\approx \\frac{1}{n} \\sum_{i=1}^n (y_i - \\mathbf{w}^\\top \\boldsymbol{\\phi}(x_i))^2\n",
    "$$\n",
    "which up to the constant $\\frac{1}{n}$ is identical to the objective function we have been using so far.\n",
    "\n",
    "\n",
    "### Estimating Risk through Validation\n",
    "\n",
    "Unfortunately, minimising the empirial risk only guarantees something about our performance on the training data. If we don't have enough data for the approximation to the risk to be valid, then we can end up performing significantly worse on test data. Fortunately, we can also estimate the risk for test data through estimating the risk for unseen data.\n",
    "\n",
    "The main trick here is to 'hold out' a portion of our data from training and use the models performance on that sub-set of the data as a proxy for the true risk. This data is known as 'validation' data. It contrasts with test data, because it's values are known at the model design time. However, in contrast to test data we don't use it to fit our model. This means that it doesn't exhibit the same bias that the empirical risk does when estimating the true risk.\n",
    "\n",
    "In this lab we will explore techniques for model selection that make use of validation data. Data that isn't seen by the model in the learning (or fitting) phase, but is used to *validate* our choice of model from amongst the different designs we have selected.\n",
    "\n",
    "In machine learning, we are looking to minimise the value of our objective function $E$ with respect to its parameters $\\mathbf{w}$. We do this by considering our training data. We minimize the value of the objective function as it's observed at each training point. However we are really interested in how the model will perform on future data. For evaluating that we choose to *hold out* a portion of the data for evaluating the quality of the model.\n",
    "\n",
    "We will review the different methods of model selection on the Olympics marathon data. Firstly we import the olympics data. "
   ]
  },
  {
   "cell_type": "code",
   "execution_count": 4,
   "metadata": {},
   "outputs": [],
   "source": [
    "import numpy as np\n",
    "import pods\n",
    "data = pods.datasets.olympic_marathon_men()\n",
    "x = data['X']\n",
    "y = data['Y']\n"
   ]
  },
  {
   "cell_type": "markdown",
   "metadata": {},
   "source": [
    "We can plot them to check that they've loaded in correctly.\n"
   ]
  },
  {
   "cell_type": "code",
   "execution_count": 5,
   "metadata": {},
   "outputs": [
    {
     "name": "stdout",
     "output_type": "stream",
     "text": [
      "[[1896.]\n",
      " [1900.]\n",
      " [1904.]\n",
      " [1908.]\n",
      " [1912.]\n",
      " [1920.]\n",
      " [1924.]\n",
      " [1928.]\n",
      " [1932.]\n",
      " [1936.]\n",
      " [1948.]\n",
      " [1952.]\n",
      " [1956.]\n",
      " [1960.]\n",
      " [1964.]\n",
      " [1968.]\n",
      " [1972.]\n",
      " [1976.]\n",
      " [1980.]\n",
      " [1984.]\n",
      " [1988.]\n",
      " [1992.]\n",
      " [1996.]\n",
      " [2000.]\n",
      " [2004.]\n",
      " [2008.]\n",
      " [2012.]]\n",
      "[[4.47083333]\n",
      " [4.46472926]\n",
      " [5.22208333]\n",
      " [4.15467867]\n",
      " [3.90331675]\n",
      " [3.56951267]\n",
      " [3.82454477]\n",
      " [3.62483707]\n",
      " [3.59284275]\n",
      " [3.53880792]\n",
      " [3.67010309]\n",
      " [3.39029111]\n",
      " [3.43642612]\n",
      " [3.20583007]\n",
      " [3.13275665]\n",
      " [3.32819844]\n",
      " [3.13583758]\n",
      " [3.0789588 ]\n",
      " [3.10581822]\n",
      " [3.06552909]\n",
      " [3.09357349]\n",
      " [3.16111704]\n",
      " [3.14255244]\n",
      " [3.08527867]\n",
      " [3.10265829]\n",
      " [2.99877553]\n",
      " [3.03392977]]\n"
     ]
    },
    {
     "data": {
      "text/plain": [
       "[<matplotlib.lines.Line2D at 0x20b58519780>]"
      ]
     },
     "execution_count": 5,
     "metadata": {},
     "output_type": "execute_result"
    },
    {
     "data": {
      "image/png": "[encoded data removed]",
      "text/plain": [
       "<Figure size 432x288 with 1 Axes>"
      ]
     },
     "metadata": {},
     "output_type": "display_data"
    }
   ],
   "source": [
    "%matplotlib inline\n",
    "import pylab as plt\n",
    "print(x)\n",
    "print(y)\n",
    "plt.plot(x, y, 'rx')"
   ]
  },
  {
   "cell_type": "markdown",
   "metadata": {},
   "source": [
    "## Hold Out Validation\n",
    "\n",
    "The first thing we'll do is fit a standard linear model to the data. We recall from previous lectures and lab classes that to do this we need to solve the system\n",
    "$$\n",
    "\\boldsymbol{\\Phi}^\\top \\boldsymbol{\\Phi} \\mathbf{w} = \\boldsymbol{\\Phi}^\\top \\mathbf{y}\n",
    "$$\n",
    "for $\\mathbf{w}$  and use the resulting vector to make predictions at the training points and test points,\n",
    "$$\n",
    "\\mathbf{f} = \\boldsymbol{\\Phi} \\mathbf{w}.\n",
    "$$\n",
    "The prediction function can be used to compute the objective function,\n",
    "$$\n",
    "E(\\mathbf{w}) = \\sum_{i}^n (y_i - \\mathbf{w}^\\top\\phi(\\mathbf{x}_i))^2\n",
    "$$\n",
    "by substituting in the prediction in vector form we have\n",
    "$$\n",
    "E(\\mathbf{w}) =  (\\mathbf{y} - \\mathbf{f})^\\top(\\mathbf{y} - \\mathbf{f})\n",
    "$$"
   ]
  },
  {
   "cell_type": "markdown",
   "metadata": {},
   "source": [
    "### Assignment Question 1\n",
    "\n",
    "In this question you will construct some flexible general code for fitting linear models.\n",
    "\n",
    "Create a python function that computes $\\boldsymbol{\\Phi}$ for the linear basis,\n",
    "$$\\boldsymbol{\\Phi} = \\begin{bmatrix} \\mathbf{x} & \\mathbf{1}\\end{bmatrix}$$\n",
    "Name your function `linear`. `Phi` should be in the form of a *design matrix* and `x` should be in the form of a `numpy` two dimensional array with $n$ rows and 1 column\n",
    "Calls to your function should be in the following form:\n",
    "\n",
    "```python\n",
    "Phi = linear(x)\n",
    "```\n",
    "\n",
    "Create a python function that accepts, as arguments, a python function that defines a basis (like the one you've just created called `linear`) as well as a set of inputs and a vector of parameters. Your new python function should return a prediction. Name your function `prediction`. The return value `f` should be a two dimensional `numpy` array with $n$ rows and $1$ column, where $n$ is the number of data points. Calls to your function should be in the following form:\n",
    "\n",
    "```python\n",
    "f = prediction(w, x, linear)\n",
    "```\n",
    "\n",
    "Create a python function that computes the sum of squares objective function (or error function). It should accept your input data (or covariates) and target data (or response variables) and your parameter vector `w` as arguments. It should also accept a python function that represents the basis. Calls to your function should be in the following form:\n",
    "\n",
    "```python\n",
    "e = objective(w, x, y, linear)\n",
    "```\n",
    "\n",
    "Create a function that solves the linear system for the set of parameters that minimizes the sum of squares objective. It should accept input data, target data and a python function for the basis as the inputs. Calls to your function should be in the following form:\n",
    "\n",
    "```python\n",
    "w = fit(x, y, linear)\n",
    "```\n",
    "\n",
    "Fit a linear model to the olympic data using these functions and plot the resulting prediction between 1890 and 2020. Set the title of the plot to be the error of the fit on the *training data*.\n",
    "\n",
    "*15 marks*"
   ]
  },
  {
   "cell_type": "code",
   "execution_count": 6,
   "metadata": {},
   "outputs": [
    {
     "name": "stdout",
     "output_type": "stream",
     "text": [
      "Predicted Error: [2.19238009]\n"
     ]
    },
    {
     "data": {
      "image/png": "[encoded data removed]",
      "text/plain": [
       "<Figure size 432x288 with 1 Axes>"
      ]
     },
     "metadata": {},
     "output_type": "display_data"
    }
   ],
   "source": [
    "#### Question 1 Answer Code\n",
    "# Write code for you answer to this question in this box\n",
    "# Do not delete these comments, otherwise you will get zero for this answer.\n",
    "# Make sure your code has run and the answer is correct *before* submitting your notebook for marking.\n",
    "\n",
    "import numpy as np\n",
    "import scipy as sp\n",
    "\n",
    "x = np.zeros((27, 1))  # create a data set of zeros\n",
    "x[:, 0] = np.linspace(1890, 2020, x.shape[0]) \n",
    "#print(x)\n",
    "\n",
    "def linear(x):\n",
    "    #Computing Linear Basis\n",
    "    Linear_Basis = np.hstack([np.ones((x.shape[0], 1)), x])\n",
    "    return Linear_Basis\n",
    "    \n",
    "def fit(x,y,fname):\n",
    "    Phi = fname(x)\n",
    "    Q, R = np.linalg.qr(Phi)\n",
    "    w = sp.linalg.solve_triangular(R, np.dot(Q.T, y)) \n",
    "    return w\n",
    "w=fit(x,y,linear)\n",
    "\n",
    "def prediction(w,x,fname):\n",
    "    Phi = fname(x)\n",
    "    f = np.dot(Phi, w)\n",
    "    return f\n",
    "f=prediction(w,x,linear)\n",
    "\n",
    "def objective(w,x,y,fname):\n",
    "    Phi = fname(x)\n",
    "    predict_Y=np.matmul(Phi,w)\n",
    "    error= predict_Y-y\n",
    "    #print(error)\n",
    "\n",
    "    error= error*error\n",
    "    error=sum(error)\n",
    "    print('Predicted Error:',error)\n",
    "    return error\n",
    "e=objective(w,x,y,linear)\n",
    "\n",
    "plt.plot(x, y, 'go')\n",
    "plt.plot(x,f,'m' ,label = 'Error of the fit on Training Data') #Magenta Line \n",
    "plt.legend()\n",
    "plt.show()"
   ]
  },
  {
   "cell_type": "markdown",
   "metadata": {},
   "source": [
    "## Polynomial Fit: Training Error\n",
    "\n",
    "The next thing we'll do is consider a quadratic fit. We will compute the training error for the two fits.\n"
   ]
  },
  {
   "cell_type": "markdown",
   "metadata": {},
   "source": [
    "### Assignment Question 2\n",
    "\n",
    "In this question we extend the code above to a non-linear basis (a quadratic function).\n",
    "\n",
    "Start by creating a python-function called `quadratic`. It should compute the quadratic basis.\n",
    "$$\\boldsymbol{\\Phi} = \\begin{bmatrix} \\mathbf{1} & \\mathbf{x} & \\mathbf{x}^2\\end{bmatrix}$$\n",
    "It should be called in the following form:\n",
    "```python\n",
    "Phi = quadratic(x)\n",
    "```\n",
    "Use this to compute the quadratic fit for the model, again plotting the result titled by the error.\n",
    "\n",
    "*10 marks*"
   ]
  },
  {
   "cell_type": "code",
   "execution_count": 7,
   "metadata": {},
   "outputs": [
    {
     "name": "stdout",
     "output_type": "stream",
     "text": [
      "Predicted Error: [1.13996589]\n"
     ]
    },
    {
     "data": {
      "image/png": "[encoded data removed]",
      "text/plain": [
       "<Figure size 432x288 with 1 Axes>"
      ]
     },
     "metadata": {},
     "output_type": "display_data"
    }
   ],
   "source": [
    "#### Question 2 Answer Code\n",
    "# Write code for you answer to this question in this box\n",
    "# Do not delete these comments, otherwise you will get zero for this answer.\n",
    "# Make sure your code has run and the answer is correct *before* submitting your notebook for marking.\n",
    "\n",
    "import numpy as np\n",
    "\n",
    "x = np.zeros((27, 1))  # create a data set of zeros\n",
    "x[:, 0] = np.linspace(1888, 2020, x.shape[0]) \n",
    "\n",
    "def quadratic(x):\n",
    "    #computing quadratic basis\n",
    "    quadratic_basis =  np.hstack([np.ones((x.shape[0], 1)), x, x**2])\n",
    "    return quadratic_basis\n",
    "\n",
    "w=fit(x,y,quadratic)\n",
    "\n",
    "f=prediction(w,x,quadratic)\n",
    "\n",
    "e=objective(w,x,y,quadratic)\n",
    "\n",
    "plt.plot(x, y, 'go')\n",
    "plt.plot(x,f,'m' ,label = 'Error Prediction') #Magenta Line \n",
    "plt.legend()\n",
    "plt.show()\n",
    "\n"
   ]
  },
  {
   "cell_type": "markdown",
   "metadata": {},
   "source": [
    "### Hold Out Data\n",
    "\n",
    "You have a conclusion as to which model fits best under the training error, but how do the two models perform in terms of validation? In this section we consider *hold out* validation. In hold out validation we remove a portion of the training data for *validating* the model on. The remaining data is used for fitting the model (training). Because this is a time series prediction, it makes sense for us to hold out data at the end of the time series. This means that we are validating on future predictions. We will hold out data from after 1980 and fit the model to the data before 1980. "
   ]
  },
  {
   "cell_type": "code",
   "execution_count": 8,
   "metadata": {},
   "outputs": [],
   "source": [
    "# select indices of data to 'hold out'\n",
    "\n",
    "indices_hold_out = np.flatnonzero(x>1980)\n",
    "\n",
    "# Create a training set\n",
    "x_train = np.delete(x, indices_hold_out, axis=0)\n",
    "y_train = np.delete(y, indices_hold_out, axis=0)\n",
    "\n",
    "\n",
    "# Create a hold out set\n",
    "x_valid = np.take(x, indices_hold_out, axis=0)\n",
    "y_valid = np.take(y, indices_hold_out, axis=0)\n"
   ]
  },
  {
   "cell_type": "markdown",
   "metadata": {},
   "source": [
    "### Assignment Question 3\n",
    "\n",
    "For both the linear and quadratic models, fit the model to the data up until 1980 and then compute the error on the held out data (from 1980 onwards). Which model performs better on the validation data?\n",
    "\n",
    "*10 marks*"
   ]
  },
  {
   "cell_type": "code",
   "execution_count": 9,
   "metadata": {},
   "outputs": [
    {
     "name": "stdout",
     "output_type": "stream",
     "text": [
      "Predicted Error: [1.38579955]\n"
     ]
    },
    {
     "data": {
      "image/png": "[encoded data removed]",
      "text/plain": [
       "<Figure size 432x288 with 1 Axes>"
      ]
     },
     "metadata": {},
     "output_type": "display_data"
    },
    {
     "name": "stdout",
     "output_type": "stream",
     "text": [
      "Predicted Error: [1.07537576]\n"
     ]
    },
    {
     "data": {
      "image/png": "[encoded data removed]",
      "text/plain": [
       "<Figure size 432x288 with 1 Axes>"
      ]
     },
     "metadata": {},
     "output_type": "display_data"
    },
    {
     "name": "stdout",
     "output_type": "stream",
     "text": [
      "Predicted Error: [3.03014088]\n"
     ]
    },
    {
     "data": {
      "image/png": "[encoded data removed]",
      "text/plain": [
       "<Figure size 432x288 with 1 Axes>"
      ]
     },
     "metadata": {},
     "output_type": "display_data"
    },
    {
     "name": "stdout",
     "output_type": "stream",
     "text": [
      "Predicted Error: [0.36436091]\n"
     ]
    },
    {
     "data": {
      "image/png": "[encoded data removed]",
      "text/plain": [
       "<Figure size 432x288 with 1 Axes>"
      ]
     },
     "metadata": {},
     "output_type": "display_data"
    }
   ],
   "source": [
    "#### Question 3 Answer Code\n",
    "# Write code for you answer to this question in this box\n",
    "# Do not delete these comments, otherwise you will get zero for this answer.\n",
    "# Make sure your code has run and the answer is correct *before* submitting your notebook for marking.\n",
    "\n",
    "import numpy as np\n",
    "\n",
    "#On Testing Data\n",
    "\n",
    "## for linear\n",
    "Phi = linear(x_train)\n",
    "\n",
    "w=fit(x_train,y_train,linear)\n",
    "\n",
    "f=prediction(w,x_train,linear)\n",
    "\n",
    "e=objective(w,x_train,y_train,linear)\n",
    "\n",
    "plt.plot(x_train, y_train, 'go')\n",
    "plt.plot(x_train,f,'m' ,label = 'Error Prediction on Training Data') #Magenta Line \n",
    "plt.legend()\n",
    "plt.show()\n",
    "\n",
    "## for quadratic\n",
    "Phi = quadratic(x_train)\n",
    "\n",
    "w=fit(x_train,y_train,quadratic)\n",
    "\n",
    "f=prediction(w,x_train,quadratic)\n",
    "\n",
    "e=objective(w,x_train,y_train,quadratic)\n",
    "\n",
    "plt.plot(x_train, y_train, 'go')\n",
    "plt.plot(x_train,f,'m' ,label = 'Error Prediction on Training Data') #Magenta Line \n",
    "plt.legend()\n",
    "plt.show()\n",
    "\n",
    "# on validation data\n",
    "\n",
    "## for linear\n",
    "Phi = linear(x_valid)\n",
    "\n",
    "w=fit(x_train,y_train,linear)\n",
    "\n",
    "f=prediction(w,x_valid,linear)\n",
    "\n",
    "e=objective(w,x_valid,y_valid,linear)\n",
    "\n",
    "plt.plot(x_valid, y_valid, 'go')\n",
    "plt.plot(x_valid,f,'m' ,label = 'Error Prediction on Validation Data') #Magenta Line \n",
    "plt.legend()\n",
    "plt.show()\n",
    "\n",
    "\n",
    "## for quadratic\n",
    "Phi = quadratic(x_valid)\n",
    "\n",
    "w=fit(x_train,y_train,quadratic)\n",
    "\n",
    "f=prediction(w,x_valid,quadratic)\n",
    "\n",
    "e=objective(w,x_valid,y_valid,quadratic)\n",
    "\n",
    "plt.plot(x_valid, y_valid, 'go')\n",
    "plt.plot(x_valid,f,'m' ,label = 'Error Prediction on Validation Data') #Magenta Line \n",
    "plt.legend()\n",
    "plt.show()\n",
    "\n",
    "\n",
    "#We can observe that the 'predicted error on validation data' is lower for the Quadratic Model, so for our data set Quadratic Model is better. "
   ]
  },
  {
   "cell_type": "markdown",
   "metadata": {},
   "source": [
    "### Richer Basis Set\n",
    "\n",
    "Now we have an approach for deciding which model to retain, we can consider the entire family of polynomial bases, with arbitrary degrees.  "
   ]
  },
  {
   "cell_type": "markdown",
   "metadata": {},
   "source": [
    "### Assignment Question 4\n",
    "\n",
    "Now we are going to build a more sophisticated form of basis function, one that can accept arguments to its inputs (similar to those we used in the lab for week 4). Here we will start with a polynomial basis.\n",
    "\n",
    "```python\n",
    "def polynomial(x, degree, loc, scale):\n",
    "    degrees = np.arange(degree+1)\n",
    "    return ((x-loc)/scale)**degrees\n",
    "```\n",
    "The basis as we've defined it has three arguments as well as the input. The degree of the polynomial, the scale of the polynomial and the offset. These arguments need to be passed to the basis functions whenever they are called. Modify your code to pass these additional arguments to the python function for creating the basis. Do this for each of your functions `predict`, `fit` and `objective`. You will find `*args` (or `**kwargs`) useful.\n",
    "\n",
    "Write code that tries to fit different models to the data with polynomial basis. Use a maximum degree for your basis from 0 to 17. For each polynomial store the *hold out validation error* and the *training error*. When you have finished the computation plot the hold out error for your models and the training error for your p. When computing your polynomial basis use `offset=1956.` and `scale=120.` to ensure that the data is mapped (roughly) to the -1, 1 range.\n",
    "\n",
    "Which polynomial has the minimum training error? Which polynomial has the minimum validation error?\n",
    "\n",
    "*25 marks*"
   ]
  },
  {
   "cell_type": "code",
   "execution_count": 12,
   "metadata": {},
   "outputs": [
    {
     "data": {
      "image/png": "[encoded data removed]",
      "text/plain": [
       "<Figure size 864x288 with 1 Axes>"
      ]
     },
     "metadata": {},
     "output_type": "display_data"
    }
   ],
   "source": [
    "#### Question 4 Answer Code\n",
    "# Write code for you answer to this question in this box\n",
    "# Do not delete these comments, otherwise you will get zero for this answer.\n",
    "# Make sure your code has run and the answer is correct *before* submitting your notebook for marking.\n",
    "\n",
    "\n",
    "import numpy as np\n",
    "import scipy as sp\n",
    "import mlai\n",
    "\n",
    "# x = np.zeros((27, 1))  # create a data set of zeros\n",
    "# x[:, 0] = np.linspace(1890, 2020, x.shape[0]) \n",
    "# print(x)\n",
    " \n",
    "##Fucntions modified to accept the additional arguments\n",
    "\n",
    "def polynomial(x, degree, loc, scale):\n",
    "    degrees = np.arange(degree+1)\n",
    "    return ((x-loc)/scale)**degrees\n",
    "\n",
    "def fit(x,y,fname,**kwargs):\n",
    "    Phi = fname(x,**kwargs)\n",
    "    Q, R = np.linalg.qr(Phi)\n",
    "    w = sp.linalg.solve_triangular(R, np.dot(Q.T, y))  \n",
    "    #print(w)\n",
    "    return w\n",
    "\n",
    "def prediction(w,x,fname, **kwargs):\n",
    "    Phi = fname(x, **kwargs)\n",
    "    f = np.dot(Phi, w)\n",
    "    return f\n",
    "\n",
    "def objective(w,x,y,fname, **kwargs):\n",
    "    Phi = fname(x, **kwargs)\n",
    "    predict_Y=np.matmul(Phi,w)\n",
    "    error= predict_Y-y\n",
    "    \n",
    "    error= error*error\n",
    "    error=sum(error)\n",
    "    #print(error)\n",
    "    return error\n",
    "\n",
    "#Error Prediction\n",
    "\n",
    "e_train = []\n",
    "e_valid = []\n",
    "x_axis = []\n",
    "\n",
    "for i in range(18):\n",
    "    #On Training Data\n",
    "    w = fit(x_train,y_train,fname = polynomial,degree=i,loc = 1956,scale = 120)\n",
    "    f=prediction(w,x_train,fname = polynomial,degree = i,loc = 1956,scale = 120)\n",
    "    e=objective(w,x_train,y_train,fname = polynomial,degree = i,loc = 1956,scale = 120)\n",
    "    e_train = np.append(e_train,e)\n",
    "    \n",
    "    #On Validation Data\n",
    "    f=prediction(w,x_valid,fname = polynomial,degree = i,loc = 1956,scale = 120)\n",
    "    e=objective(w,x_valid,y_valid,fname = polynomial,degree = i,loc = 1956,scale = 120)\n",
    "    e_valid = np.append(e_valid,e)\n",
    "    \n",
    "    x_axis = np.append(x_axis,i)\n",
    "\n",
    "# to plot errors\n",
    "fig, ax = plt.subplots(figsize=(12,4))\n",
    "ax.set_xlim(0,17)\n",
    "plt.plot(x_axis, e_train, 'go', label = 'Training Error')\n",
    "plt.plot(x_axis,e_valid,'m' ,label = 'Hold out validation Error')\n",
    "plt.legend()\n",
    "plt.show()\n"
   ]
  },
  {
   "cell_type": "code",
   "execution_count": 15,
   "metadata": {},
   "outputs": [
    {
     "name": "stdout",
     "output_type": "stream",
     "text": [
      "Training error:\n",
      " [5.73633101 1.38579955 1.07537576 1.06674445 1.03189462 0.8094527\n",
      " 0.62395879 0.61658367 0.54378809 0.47648709 0.28156029 0.1349099\n",
      " 0.12544138 0.09900488 0.09852137 0.04952714 0.0276043  0.02758528]\n",
      "Minimum Training Error:  0.027585277770767642\n",
      "\n",
      "Holdout Validation error\n",
      ":  [2.81331280e+00 3.03014088e+00 3.64360906e-01 2.61362062e-01\n",
      " 4.89366157e+01 2.02989094e+03 1.22637636e+04 4.83808274e+01\n",
      " 1.35773477e+06 8.82097987e+06 5.79077006e+08 5.00979372e+09\n",
      " 1.06581443e+09 5.80394536e+11 5.06236158e+10 9.18295526e+14\n",
      " 9.61745935e+15 4.71902765e+15]\n",
      "Minimum Holdout Validation error:  0.26136206178156673\n"
     ]
    }
   ],
   "source": [
    "print(\"Training error:\\n\",e_train)\n",
    "Min=min(e_train)\n",
    "print('Minimum Training Error: ',Min)\n",
    "print()\n",
    "print(\"Holdout Validation error\\n: \",e_valid)\n",
    "Min1=min(e_valid)\n",
    "print('Minimum Holdout Validation error: ',Min1)\n",
    "\n",
    "#We can observe that polynomial with degree 17 has the minimum training error.\n",
    "#On the other hand, polynomial with degree 3 has the minimum hold out validation error.\n"
   ]
  },
  {
   "cell_type": "markdown",
   "metadata": {},
   "source": [
    "## Leave One Out Validation\n",
    "\n",
    "Hold out validation uses a portion of the data to hold out and a portion of the data to train on. There is always a compromise between how much data to hold out and how much data to train on. The more data you hold out, the better the estimate of your performance at 'run-time' (when the model is used to make predictions in real applications). However, by holding out more data, you leave less data to train on, so you have a better validation, but a poorer quality model fit than you could have had if you'd used all the data for training. Leave one out cross validation leaves as much data in the training phase as possible: you only take *one point* out for your validation set. However, if you do this for hold-out validation, then the quality of your validation error is very poor because you are testing the model quality on one point only. In *cross validation* the approach is to improve this estimate by doing more than one model fit. In *leave one out cross validation* you fit $n$ different models, where $n$ is the number of your data. For each model fit you take out one data point, and train the model on the remaining $n-1$ data points. You validate the model on the data point you've held out, but you do this $n$ times, once for each different model. You then take the *average* of all the $n$ badly estimated hold out validation errors. The average of this estimate is a good estimate of performance of those models on the test data. "
   ]
  },
  {
   "cell_type": "markdown",
   "metadata": {},
   "source": [
    "### Assignment Question 5\n",
    "\n",
    "Write code that computes the *leave one out* validation error for the olympic data and the polynomial basis. Use the functions you have created above: `objective`, `fit`, `polynomial`. Compute the *leave-one-out* cross validation error for basis functions containing a maximum degree from 0 to 17.\n",
    "\n",
    "*20 marks*"
   ]
  },
  {
   "cell_type": "code",
   "execution_count": 16,
   "metadata": {},
   "outputs": [
    {
     "name": "stdout",
     "output_type": "stream",
     "text": [
      "Leave one out Error for polynomial with degree 0 is 0.3084218581905888\n",
      "Leave one out Error for polynomial with degree 1 is 0.40795265170360406\n",
      "Leave one out Error for polynomial with degree 2 is 0.4655159669087176\n",
      "Leave one out Error for polynomial with degree 3 is 0.5265694535413877\n",
      "Leave one out Error for polynomial with degree 4 is 0.5961416911392033\n",
      "Leave one out Error for polynomial with degree 5 is 0.6820108305457608\n",
      "Leave one out Error for polynomial with degree 6 is 0.7709573066516372\n",
      "Leave one out Error for polynomial with degree 7 is 0.8420848714175099\n",
      "Leave one out Error for polynomial with degree 8 is 1.0518823883734203\n",
      "Leave one out Error for polynomial with degree 9 is 1.7846549617676957\n",
      "Leave one out Error for polynomial with degree 10 is 3.439018905814367\n",
      "Leave one out Error for polynomial with degree 11 is 6.8391709912545275\n",
      "Leave one out Error for polynomial with degree 12 is 13.862297397145305\n",
      "Leave one out Error for polynomial with degree 13 is 32.46189519961197\n",
      "Leave one out Error for polynomial with degree 14 is 42.13003388099284\n",
      "Leave one out Error for polynomial with degree 15 is 54.58327469280239\n",
      "Leave one out Error for polynomial with degree 16 is 145.29801070622196\n",
      "Leave one out Error for polynomial with degree 17 is 1481.9252713592477\n"
     ]
    },
    {
     "data": {
      "image/png": "[encoded data removed]",
      "text/plain": [
       "<Figure size 864x288 with 1 Axes>"
      ]
     },
     "metadata": {},
     "output_type": "display_data"
    }
   ],
   "source": [
    "#### Question 5 Answer Code\n",
    "# Write code for you answer to this question in this box\n",
    "# Do not delete these comments, otherwise you will get zero for this answer.\n",
    "# Make sure your code has run and the answer is correct *before* submitting your notebook for marking.\n",
    "\n",
    "# # x = np.zeros((27, 1))# create a data set of zeros\n",
    "# # x[:, 0] = np.linspace(1890, 2020, x.shape[0])\n",
    "# x_train = x\n",
    "\n",
    "err = []\n",
    "Leave_err=[]\n",
    "\n",
    "for j in range(0,18):\n",
    "    for i in range(0,27):\n",
    "        x_train = np.delete(x,i)\n",
    "        y_train = np.delete(y,i)\n",
    "#         print(x_train)\n",
    "#         print(y_train)\n",
    "        x_train = np.reshape(x_train,(26,1))\n",
    "        y_train = np.reshape(y_train,(26,1))\n",
    "#         print(x_train)\n",
    "#         print(y_train)\n",
    "        w = fit(x_train,y_train,fname = polynomial,degree=j,loc = 1956,scale = 120)\n",
    "        f=prediction(w,x_train,fname = polynomial,degree = j,loc = 1956,scale = 120)\n",
    "        e=objective(w,x[i],y[i],fname = polynomial,degree = j,loc = 1956,scale = 120)\n",
    "        err = np.append(err,e)\n",
    "       \n",
    "    err_sum=np.sum(err)\n",
    "    err_average=err_sum/x.shape[0]\n",
    "    Leave_err.append(err_average)\n",
    "    print('Leave one out Error for polynomial with degree',j,'is', err_average)\n",
    "\n",
    "# to plot errors\n",
    "fig, ax = plt.subplots(figsize=(12,4))\n",
    "ax.set_xlim(0,17)\n",
    "plt.plot(Leave_err,'go' ,label = 'Leave one out error')\n",
    "plt.legend()\n",
    "plt.show()"
   ]
  },
  {
   "cell_type": "markdown",
   "metadata": {},
   "source": [
    "## $k$-fold Cross Validation\n",
    "\n",
    "Leave one out cross validation produces a very good estimate of the performance at test time, and is particularly useful if you don't have a lot of data. In these cases you need to make as much use of your data for model fitting as possible, and having a large hold out data set (to validate model performance) can have a significant effect on the size of the data set you have to fit your model, and correspondingly, the complexity of the model you can fit. However, leave one out cross validation involves fitting $n$ models, where $n$ is your number of training data. For the olympics example, this is only 27 model fits, but in practice many data sets consist thousands or millions of data points, and fitting many millions of models for estimating validation error isn't really practical. One option is to return to *hold out* validation, but another approach is to perform $k$-fold cross validation. In $k$-fold cross validation you split your data into $k$ parts. Then you use $k-1$ of those parts for training, and hold out one part for validation. Just like we did for the hold out validation above. In *cross* validation, however, you repeat this process. You swap the part of the data you just used for validation back in to the training set and select another part for validation. You then fit the model to the new training data and validate on the portion of data you've just extracted. Each split of training/validation data is called a *fold* and since you do this process $k$ times, the procedure is known as $k$-fold cross validation. The term *cross* refers to the fact that you cross over your validation portion back into the training data every time you perform a fold.  "
   ]
  },
  {
   "cell_type": "markdown",
   "metadata": {},
   "source": [
    "### Assignment Question 6\n",
    "\n",
    "Perform $k$-fold cross validation on the olympic data with your polynomial basis. Use $k$ set to 5 (e.g. five fold cross validation). Do the different forms of validation select different models? Does five fold cross validation always select the same model?\n",
    "\n",
    "*20 marks*"
   ]
  },
  {
   "cell_type": "markdown",
   "metadata": {},
   "source": [
    "*Note*: The data doesn't divide into 5 equal size partitions for the five fold cross validation error. Don't worry about this too much. Two of the partitions will have an extra data point. You might find `np.random.permutation?` useful."
   ]
  },
  {
   "cell_type": "code",
   "execution_count": 17,
   "metadata": {},
   "outputs": [
    {
     "name": "stdout",
     "output_type": "stream",
     "text": [
      "K-Fold Cross Validation Error for polynomial with degree 0 is 0.1796593790080534\n",
      "K-Fold Cross Validation Error for polynomial with degree 1 is 0.21346073568381246\n",
      "K-Fold Cross Validation Error for polynomial with degree 2 is 0.3711096520852163\n",
      "K-Fold Cross Validation Error for polynomial with degree 3 is 0.5326256773059541\n",
      "K-Fold Cross Validation Error for polynomial with degree 4 is 0.6561220941234263\n",
      "K-Fold Cross Validation Error for polynomial with degree 5 is 0.7882930365818795\n",
      "K-Fold Cross Validation Error for polynomial with degree 6 is 0.9035641781444428\n",
      "K-Fold Cross Validation Error for polynomial with degree 7 is 0.9660983364829814\n",
      "K-Fold Cross Validation Error for polynomial with degree 8 is 1.011848507617777\n",
      "K-Fold Cross Validation Error for polynomial with degree 9 is 1.060635573516199\n",
      "K-Fold Cross Validation Error for polynomial with degree 10 is 1.131281201490814\n",
      "K-Fold Cross Validation Error for polynomial with degree 11 is 1.3743281826656544\n",
      "K-Fold Cross Validation Error for polynomial with degree 12 is 1.6372408308882107\n",
      "K-Fold Cross Validation Error for polynomial with degree 13 is 2.3403478431005973\n",
      "K-Fold Cross Validation Error for polynomial with degree 14 is 2.5839586455320913\n",
      "K-Fold Cross Validation Error for polynomial with degree 15 is 5.436748791499641\n",
      "K-Fold Cross Validation Error for polynomial with degree 16 is 10.755220182183628\n",
      "K-Fold Cross Validation Error for polynomial with degree 17 is 14.429184391036364\n"
     ]
    },
    {
     "data": {
      "image/png": "[encoded data removed]",
      "text/plain": [
       "<Figure size 864x288 with 1 Axes>"
      ]
     },
     "metadata": {},
     "output_type": "display_data"
    }
   ],
   "source": [
    "#### Question 6 Answer Code\n",
    "# Write code for you answer to this question in this box\n",
    "# Do not delete these comments, otherwise you will get zero for this answer.\n",
    "# Make sure your code has run and the answer is correct *before* submitting your notebook for marking.\n",
    "\n",
    "# to generate sets of x\n",
    "x_arr = np.split(x, np.arange(1, x.size, 5))\n",
    "x_arr[1] = np.append(x_arr[1],0)\n",
    "x_arr[2] = np.append(x_arr[2],0)\n",
    "x_arr[3] = np.append(x_arr[3],0)\n",
    "x_arr[4] = np.append(x_arr[4],x_arr[0])\n",
    "x_arr[5] = np.append(x_arr[5],x_arr[6])\n",
    "\n",
    "for i in range(1,6):\n",
    "    x_List = list()\n",
    "    for j in range(1,6):\n",
    "        x_List.append(x_arr[j])\n",
    "#print(\"x set:\",x_List)\n",
    "\n",
    "# to generate sets of y\n",
    "y_arr = np.split(y, np.arange(1, y.size, 5))\n",
    "y_arr[1] = np.append(y_arr[1],0)\n",
    "y_arr[2] = np.append(y_arr[2],0)\n",
    "y_arr[3] = np.append(y_arr[3],0)\n",
    "y_arr[4] = np.append(y_arr[4],y_arr[0])\n",
    "y_arr[5] = np.append(y_arr[5],y_arr[6])\n",
    "\n",
    "for i in range(1,6):\n",
    "    y_List = list()\n",
    "    for j in range(1,6):\n",
    "        y_List.append(y_arr[j])\n",
    "#print(\"y sets:\",y_List)\n",
    "\n",
    "# k-fold Cross Validation error Computation\n",
    "k_fold_err=[]\n",
    "err = []\n",
    "x_train = []\n",
    "y_train = []\n",
    "for j in range(0,18):\n",
    "    for k in range(0,len(x_List)):\n",
    "#     print(\"x_List[k]\",x_List[k])\n",
    "        x_valid=x_List[k]\n",
    "        x_train=x_List.copy()\n",
    "        del(x_train[k])\n",
    "        x_train=np.array(x_train).flatten()\n",
    "#         print(x_train)\n",
    "#         print(x_valid)\n",
    "    \n",
    "        y_valid=y_List[k]\n",
    "        y_train=y_List.copy()\n",
    "        del(y_train[k])\n",
    "        y_train=np.array(y_train).flatten()\n",
    "#         print(y_train)\n",
    "#         print(y_valid)\n",
    "        \n",
    "        x_train = np.reshape(x_train,(24,1)) \n",
    "        y_train = np.reshape(y_train,(24,1))\n",
    "        \n",
    "        w = fit(x_train,y_train,fname = polynomial,degree=j,loc = 1956,scale = 120)\n",
    "        f=prediction(w,x_train,fname = polynomial,degree = j,loc = 1956,scale = 120)\n",
    "        e=objective(w,x[i],y[i],fname = polynomial,degree = j,loc = 1956,scale = 120)\n",
    "        err = np.append(err,e)\n",
    "    \n",
    "    err_sum=np.sum(err)\n",
    "    err_average=err_sum/5\n",
    "    k_fold_err.append(err_average)\n",
    "    print('K-Fold Cross Validation Error for polynomial with degree',j,'is', err_average)\n",
    "    \n",
    "# to plot errors\n",
    "fig, ax = plt.subplots(figsize=(12,4))\n",
    "ax.set_xlim(0,17)\n",
    "plt.plot(k_fold_err,'mo' ,label = 'k-fold cross validation error')\n",
    "plt.legend()\n",
    "plt.show()"
   ]
  },
  {
   "cell_type": "code",
   "execution_count": 18,
   "metadata": {},
   "outputs": [],
   "source": [
    "np.random.seed(365)\n",
    "k=5\n",
    "error_sum_k = []\n",
    "start= np.random.permutation(27)\n",
    "spliting =np.split(start,[5,10,16,21,27])\n",
    "result_error= []\n",
    "for i in range(18):\n",
    "    error_k = []\n",
    "    for j in range(0,k):\n",
    "        x_train = np.delete(x,spliting[j],axis=0)\n",
    "        y_train = np.delete(y,spliting[j],axis=0)\n",
    "        x_valid = np.take(x,spliting[j],axis=0)\n",
    "        y_valid = np.take(y,spliting[j],axis=0)\n",
    "        w = fit(x_train,y_train,polynomial,degree=i,loc = 1956,scale = 120)\n",
    "        e=objective(w,x_valid,y_valid,polynomial,degree =i,loc = 1956,scale = 120)\n",
    "        error_k = np.append(error_k, e)\n",
    "    error_sum_k=np.sum(error_k)\n",
    "    error_average_k=error_sum_k/k  \n",
    "    result_error.append(error_average_k)"
   ]
  },
  {
   "cell_type": "code",
   "execution_count": 92,
   "metadata": {},
   "outputs": [],
   "source": [
    "#*Yes, Depending on the size and type of the dataset, different forms of validations(Leave one out/k-fold cross/etc) may select different models.*\n",
    "\n",
    "#For 5-fold cross validation:\n",
    "\n",
    "#'5' validations are done on the '5' surrogate models, as we train and validate each model '5' times implicitely.  \n",
    "#As for general purpose,5-fold cross validation can choose any model like linear regression or neural network depending on the dataset.\n",
    "\n",
    "# ref: https://stats.stackexchange.com/questions/52274/how-to-choose-a-predictive-model-after-k-fold-cross-validation"
   ]
  }
 ],
 "metadata": {
  "kernelspec": {
   "display_name": "Python 3",
   "language": "python",
   "name": "python3"
  },
  "language_info": {
   "codemirror_mode": {
    "name": "ipython",
    "version": 3
   },
   "file_extension": ".py",
   "mimetype": "text/x-python",
   "name": "python",
   "nbconvert_exporter": "python",
   "pygments_lexer": "ipython3",
   "version": "3.6.5"
  }
 },
 "nbformat": 4,
 "nbformat_minor": 1
}
